{
  "nbformat": 4,
  "nbformat_minor": 0,
  "metadata": {
    "colab": {
      "provenance": []
    },
    "kernelspec": {
      "name": "python3",
      "display_name": "Python 3"
    },
    "language_info": {
      "name": "python"
    }
  },
  "cells": [
    {
      "cell_type": "markdown",
      "source": [
        "## **Python OOPs Practical Questions**"
      ],
      "metadata": {
        "id": "MD6eCebt8FTL"
      }
    },
    {
      "cell_type": "code",
      "source": [
        "# 1.Create a parent class Animal with a method speak() that prints a generic message. Create a child class Dog that overrides the speak() method to print \"Bark!\".\n",
        "\n",
        "class Animal:\n",
        "    def speak(self):\n",
        "        print(\"Generic message\")\n",
        "\n",
        "class Dog(Animal):\n",
        "    def speak(self):\n",
        "        print(\"Bark!\")\n",
        "\n",
        "animal = Animal()\n",
        "animal.speak()\n",
        "\n",
        "dog = Dog()\n",
        "dog.speak()\n",
        "\n"
      ],
      "metadata": {
        "colab": {
          "base_uri": "https://localhost:8080/"
        },
        "id": "OTnEIJZ88UU5",
        "outputId": "d82e34b8-77eb-479b-8131-676e15901e11"
      },
      "execution_count": 3,
      "outputs": [
        {
          "output_type": "stream",
          "name": "stdout",
          "text": [
            "Generic message\n",
            "Bark!\n"
          ]
        }
      ]
    },
    {
      "cell_type": "code",
      "source": [
        "# 2.Write a program to create an abstract class Shape with a method area(). Derive classes Circle and Rectanglfrom it and implement the area() method in both.\n",
        "\n",
        "\n",
        "import math\n",
        "from abc import ABC, abstractmethod\n",
        "\n",
        "class Shape(ABC):\n",
        "    @abstractmethod\n",
        "    def area(self):\n",
        "        pass\n",
        "\n",
        "class Circle(Shape):\n",
        "    def __init__(self, radius):\n",
        "        self.radius = radius\n",
        "\n",
        "    def area(self):\n",
        "        return math.pi * self.radius**2\n",
        "\n",
        "class Rectangle(Shape):\n",
        "    def __init__(self, length, width):\n",
        "        self.length = length\n",
        "        self.width = width\n",
        "\n",
        "    def area(self):\n",
        "        return self.length * self.width\n",
        "\n",
        "# Example usage\n",
        "circle = Circle(5)\n",
        "rectangle = Rectangle(4, 5)\n",
        "\n",
        "print(\"Circle area:\", circle.area())\n",
        "print(\"Rectangle area:\", rectangle.area())"
      ],
      "metadata": {
        "colab": {
          "base_uri": "https://localhost:8080/"
        },
        "id": "pRDhLFP98stF",
        "outputId": "5a791135-82f3-4b86-f46b-099b1d36e28c"
      },
      "execution_count": 5,
      "outputs": [
        {
          "output_type": "stream",
          "name": "stdout",
          "text": [
            "Circle area: 78.53981633974483\n",
            "Rectangle area: 20\n"
          ]
        }
      ]
    },
    {
      "cell_type": "code",
      "source": [
        "# 3. Implement a multi-level inheritance scenario where a class Vehicle has an attribute type. Derive a class Car and further derive a class ElectricCar that adds a battery attribute.\n",
        "\n",
        "\n",
        "class Vehicle:\n",
        "    def __init__(self, type):\n",
        "        self.type = type\n",
        "\n",
        "class Car(Vehicle):\n",
        "    def __init__(self, type, model, num_doors):\n",
        "        super().__init__(type)\n",
        "        self.model = model\n",
        "        self.num_doors = num_doors\n",
        "\n",
        "class ElectricCar(Car):\n",
        "    def __init__(self, type, model, num_doors, battery_capacity):\n",
        "        super().__init__(type, model, num_doors)\n",
        "        self.battery_capacity = battery_capacity\n",
        "\n",
        "# Example usage:\n",
        "electric_car = ElectricCar(type=\"Electric\", model=\"Model S\", num_doors=4, battery_capacity=\"100 kWh\")\n",
        "print(f\"Vehicle Type: {electric_car.type}, Model: {electric_car.model}, Number of doors: {electric_car.num_doors}, Battery Capacity: {electric_car.battery_capacity}\")"
      ],
      "metadata": {
        "colab": {
          "base_uri": "https://localhost:8080/"
        },
        "id": "Ni-LTJsX-wYs",
        "outputId": "f3947462-f28a-4ec2-e0f7-fb7dd8c2dd3d"
      },
      "execution_count": 7,
      "outputs": [
        {
          "output_type": "stream",
          "name": "stdout",
          "text": [
            "Vehicle Type: Electric, Model: Model S, Number of doors: 4, Battery Capacity: 100 kWh\n"
          ]
        }
      ]
    },
    {
      "cell_type": "code",
      "source": [
        "# 4. Demonstrate polymorphism by creating a base class Bird with a method fly(). Create two derived classes Sparrow and Penguin that override the fly() method.\n",
        "\n",
        "# Base class\n",
        "class Bird:\n",
        "    def fly(self):\n",
        "        return \"Birds can generally fly.\"\n",
        "\n",
        "# Derived class 1\n",
        "class Sparrow(Bird):\n",
        "    def fly(self):\n",
        "        return \"Sparrows fly in the sky.\"\n",
        "\n",
        "# Derived class 2\n",
        "class Penguin(Bird):\n",
        "    def fly(self):\n",
        "        return \"Penguins cannot fly, but they can swim.\"\n",
        "\n",
        "# Function demonstrating polymorphism\n",
        "def bird_fly(bird):\n",
        "    return bird.fly()\n",
        "\n",
        "# Creating instances of the derived classes\n",
        "sparrow = Sparrow()\n",
        "penguin = Penguin()\n",
        "\n",
        "# Using the polymorphic method\n",
        "print(bird_fly(sparrow))\n",
        "print(bird_fly(penguin))"
      ],
      "metadata": {
        "colab": {
          "base_uri": "https://localhost:8080/"
        },
        "id": "GEG5ycFu_Upd",
        "outputId": "d7bb1a24-8deb-410b-bd26-4957f1d0d0ed"
      },
      "execution_count": 8,
      "outputs": [
        {
          "output_type": "stream",
          "name": "stdout",
          "text": [
            "Sparrows fly in the sky.\n",
            "Penguins cannot fly, but they can swim.\n"
          ]
        }
      ]
    },
    {
      "cell_type": "code",
      "source": [
        "# 5.Write a program to demonstrate encapsulation by creating a class BankAccount with private attributes balance and methods to deposit, withdraw, and check balance.\n",
        "\n",
        "class BankAccount:\n",
        "    def __init__(self, account_holder, initial_balance=0):\n",
        "        self.account_holder = account_holder\n",
        "        self.__balance = initial_balance  # Private attribute\n",
        "\n",
        "    def deposit(self, amount):\n",
        "        if amount > 0:\n",
        "            self.__balance += amount\n",
        "            return f\"Deposited ${amount}. New balance: ${self.__balance}\"\n",
        "        else:\n",
        "            return \"Deposit amount must be positive.\"\n",
        "\n",
        "    def withdraw(self, amount):\n",
        "        if 0 < amount <= self.__balance:\n",
        "            self.__balance -= amount\n",
        "            return f\"Withdrew ${amount}. New balance: ${self.__balance}\"\n",
        "        else:\n",
        "            return \"Insufficient funds or invalid amount.\"\n",
        "\n",
        "    def check_balance(self):\n",
        "        return f\"Current balance: ${self.__balance}\"\n",
        "\n",
        "# Example usage :\n",
        "\n",
        "account1 = BankAccount(\"Soumya Ray\", 1000)\n",
        "print(account1.deposit(500))\n",
        "print(account1.withdraw(100))\n",
        "print(account1.check_balance())\n",
        ""
      ],
      "metadata": {
        "colab": {
          "base_uri": "https://localhost:8080/"
        },
        "id": "g923yRBs_6k2",
        "outputId": "f842c25d-0d3c-4bf5-94cd-7a8a7cb722ab"
      },
      "execution_count": 13,
      "outputs": [
        {
          "output_type": "stream",
          "name": "stdout",
          "text": [
            "Deposited $500. New balance: $1500\n",
            "Withdrew $100. New balance: $1400\n",
            "Current balance: $1400\n"
          ]
        }
      ]
    },
    {
      "cell_type": "code",
      "source": [
        "# 6.Demonstrate runtime polymorphism using a method play() in a base class Instrument. Derive classes Guitar and Piano that implement their own version of play().\n",
        "\n",
        "class Instrument:\n",
        "    def play(self):\n",
        "        print(\"Playing an instrument\")\n",
        "\n",
        "# Derived class Guitar that overrides play()\n",
        "class Guitar(Instrument):\n",
        "    def play(self):\n",
        "        print(\"Playing a guitar\")\n",
        "\n",
        "# Derived class Piano that overrides play()\n",
        "class Piano(Instrument):\n",
        "    def play(self):\n",
        "        print(\"Playing a piano\")\n",
        "\n",
        "# Example demonstrating runtime polymorphism\n",
        "def play_instruments(instrument):\n",
        "    instrument.play()\n",
        "\n",
        "# Create instances of the classes\n",
        "guitar = Guitar()\n",
        "piano = Piano()\n",
        "\n",
        "# Call the play() method on the instances (runtime polymorphism)\n",
        "play_instruments(guitar)\n",
        "play_instruments(piano)"
      ],
      "metadata": {
        "colab": {
          "base_uri": "https://localhost:8080/"
        },
        "id": "jSDunFr_BDyL",
        "outputId": "35c7de2c-424c-444e-cdc5-3fe02bb32648"
      },
      "execution_count": 14,
      "outputs": [
        {
          "output_type": "stream",
          "name": "stdout",
          "text": [
            "Playing a guitar\n",
            "Playing a piano\n"
          ]
        }
      ]
    },
    {
      "cell_type": "code",
      "source": [
        "#7. Create a class MathOperations with a class method add_numbers() to add two numbers and a static method subtract_numbers() to subtract two numbers.\n",
        "\n",
        "\n",
        "class MathOperations:\n",
        "    @classmethod\n",
        "    def add_numbers(cls, x, y):\n",
        "        return x + y\n",
        "\n",
        "    @staticmethod\n",
        "    def subtract_numbers(x, y):\n",
        "        return x - y\n",
        "\n",
        "result_add = MathOperations.add_numbers(9, 1)\n",
        "print(f\"The sum is: {result_add}\")\n",
        "\n",
        "result_subtract = MathOperations.subtract_numbers(101, 4)\n",
        "print(f\"The difference is: {result_subtract}\")"
      ],
      "metadata": {
        "colab": {
          "base_uri": "https://localhost:8080/"
        },
        "id": "Uj5PU9vfCwDZ",
        "outputId": "8569d27a-13e3-426a-bbe7-c44b768b8af0"
      },
      "execution_count": 16,
      "outputs": [
        {
          "output_type": "stream",
          "name": "stdout",
          "text": [
            "The sum is: 10\n",
            "The difference is: 97\n"
          ]
        }
      ]
    },
    {
      "cell_type": "code",
      "source": [
        "# 8.Implement a class Person with a class method to count the total number of persons created.\n",
        "\n",
        "class Person:\n",
        "    count = 0  # Class variable to keep track of the number of persons\n",
        "\n",
        "    def __init__(self):\n",
        "        Person.count += 1  # Increment the count when a new person is created\n",
        "\n",
        "    @classmethod\n",
        "    def get_count(cls):\n",
        "        return cls.count  # Return the current count of persons\n",
        "\n",
        "# Example usage\n",
        "person1 = Person()\n",
        "person2 = Person()\n",
        "person3 = Person()\n",
        "person4 = Person()\n",
        "\n",
        "print(f\"Total persons created: {Person.get_count()}\")\n",
        "\n",
        "\n"
      ],
      "metadata": {
        "colab": {
          "base_uri": "https://localhost:8080/"
        },
        "id": "Be-Y9gazD38X",
        "outputId": "f52dd01e-5544-4a86-e621-5762930a401a"
      },
      "execution_count": 26,
      "outputs": [
        {
          "output_type": "stream",
          "name": "stdout",
          "text": [
            "Total persons created: 4\n"
          ]
        }
      ]
    },
    {
      "cell_type": "code",
      "source": [
        "#9.  Write a class Fraction with attributes numerator and denominator. Override the str method to display the fraction as \"numerator/denominator\".\n",
        "\n",
        "class Fraction:\n",
        "    def __init__(self, numerator, denominator):\n",
        "        self.numerator = numerator\n",
        "        self.denominator = denominator\n",
        "\n",
        "    def __str__(self):\n",
        "        return f\"{self.numerator}/{self.denominator}\"\n",
        "\n",
        "\n",
        "fraction1 = Fraction(3, 4)\n",
        "print(fraction1)\n",
        "\n",
        "fraction2 = Fraction(1, 2)\n",
        "print(fraction2)"
      ],
      "metadata": {
        "colab": {
          "base_uri": "https://localhost:8080/"
        },
        "id": "ertBMYLvFMpq",
        "outputId": "9e0b1b30-d6ba-447d-d61f-9cb65b4ce8fa"
      },
      "execution_count": 30,
      "outputs": [
        {
          "output_type": "stream",
          "name": "stdout",
          "text": [
            "3/4\n",
            "1/2\n"
          ]
        }
      ]
    },
    {
      "cell_type": "code",
      "source": [
        "#10.Demonstrate operator overloading by creating a class Vector and overriding the add method to add two vectors.\n",
        "\n",
        "class Vector:\n",
        "    def __init__(self, x, y):\n",
        "        self.x = x\n",
        "        self.y = y\n",
        "\n",
        "    def __add__(self, other):\n",
        "        if isinstance(other, Vector):\n",
        "            return Vector(self.x + other.x, self.y + other.y)\n",
        "        else:\n",
        "            raise TypeError(\"Unsupported operand type for +\")\n",
        "\n",
        "    def __str__(self):\n",
        "        return f\"({self.x}, {self.y})\"\n",
        "\n",
        "# Example usage:\n",
        "v1 = Vector(8, 9)\n",
        "v2 = Vector(1, 4)\n",
        "v3 = v1 + v2\n",
        "print(v3)\n"
      ],
      "metadata": {
        "colab": {
          "base_uri": "https://localhost:8080/"
        },
        "id": "GrmVNS9nGQHN",
        "outputId": "87a473f7-9dec-4f65-90dd-0602f22844af"
      },
      "execution_count": 32,
      "outputs": [
        {
          "output_type": "stream",
          "name": "stdout",
          "text": [
            "(9, 13)\n"
          ]
        }
      ]
    },
    {
      "cell_type": "code",
      "source": [
        "# 11. Create a class Person with attributes name and age. Add a method greet() that prints \"Hello, my name is {name} and I am {age} years old.\"\n",
        "\n",
        "class Person:\n",
        "    def __init__(self, name, age):\n",
        "        self.name = name\n",
        "        self.age = age\n",
        "\n",
        "    def greet(self):\n",
        "        return f\"Hello, my name is {self.name} and I am {self.age} years old.\"\n",
        "\n",
        "person1 = Person(\"Soumya Ray\", 27)\n",
        "print(person1.greet())\n",
        "\n",
        "person2 = Person(\"Ayesha\", 25)\n",
        "print(person2.greet())\n",
        "\n"
      ],
      "metadata": {
        "colab": {
          "base_uri": "https://localhost:8080/"
        },
        "id": "uyKRG4RNGqH_",
        "outputId": "ce8983ea-af3b-4f3d-d9e6-43c6f64ecf39"
      },
      "execution_count": 33,
      "outputs": [
        {
          "output_type": "stream",
          "name": "stdout",
          "text": [
            "Hello, my name is Soumya Ray and I am 27 years old.\n",
            "Hello, my name is Ayesha and I am 25 years old.\n"
          ]
        }
      ]
    },
    {
      "cell_type": "code",
      "source": [
        "# 12.Implement a class Student with attributes name and grades. Create a method average_grade() to compute the average of the grades.\n",
        "\n",
        "class Student:\n",
        "    def __init__(self, name, grades):\n",
        "        \"\"\"\n",
        "        Initializes a Student object with a name and a list of grades.\n",
        "        \"\"\"\n",
        "        self.name = name\n",
        "        self.grades = grades\n",
        "\n",
        "    def average_grade(self):\n",
        "       \"\"\"\n",
        "       Computes the average of the grades for a student.\n",
        "       \"\"\"\n",
        "       if not self.grades:\n",
        "           return 0\n",
        "       return sum(self.grades) / len(self.grades)\n",
        "\n",
        "# Example Usage\n",
        "student1 = Student(\"Soumya\", [85, 90, 78, 92])\n",
        "average1 = student1.average_grade()\n",
        "print(f\"The average grade for {student1.name} is: {average1}\")\n",
        "\n",
        "student2 = Student(\"Hari\", [70, 80, 90, 100])\n",
        "average2 = student2.average_grade()\n",
        "print(f\"The average grade for {student2.name} is: {average2}\")\n"
      ],
      "metadata": {
        "colab": {
          "base_uri": "https://localhost:8080/"
        },
        "id": "gvSL8-gxHkvR",
        "outputId": "8d355ece-0e5d-4ac9-8fcb-ac6e43d6532d"
      },
      "execution_count": 34,
      "outputs": [
        {
          "output_type": "stream",
          "name": "stdout",
          "text": [
            "The average grade for Soumya is: 86.25\n",
            "The average grade for Hari is: 85.0\n"
          ]
        }
      ]
    },
    {
      "cell_type": "code",
      "source": [
        "#13. Create a class Rectangle with methods set_dimensions() to set the dimensions and area() to calculate the area.\n",
        "\n",
        "class Rectangle:\n",
        "    def __init__(self, length=0, width=0):\n",
        "        \"\"\"\n",
        "        Initializes a Rectangle object with optional length and width.\n",
        "        \"\"\"\n",
        "        self.length = length\n",
        "        self.width = width\n",
        "\n",
        "    def set_dimensions(self, length, width):\n",
        "         \"\"\"\n",
        "         Sets the dimensions of the rectangle.\n",
        "         \"\"\"\n",
        "         self.length = length\n",
        "         self.width = width\n",
        "\n",
        "    def area(self):\n",
        "        \"\"\"\n",
        "        Calculates and returns the area of the rectangle.\n",
        "        \"\"\"\n",
        "        return self.length * self.width\n",
        "\n",
        "# Example usage:\n",
        "rect = Rectangle()\n",
        "rect.set_dimensions(4, 10)\n",
        "print(\"Area:\", rect.area())\n",
        "\n"
      ],
      "metadata": {
        "colab": {
          "base_uri": "https://localhost:8080/"
        },
        "id": "MG83BdWTINke",
        "outputId": "cc92abc7-8810-41d0-ad43-4fc9548c5f9d"
      },
      "execution_count": 35,
      "outputs": [
        {
          "output_type": "stream",
          "name": "stdout",
          "text": [
            "Area: 40\n"
          ]
        }
      ]
    },
    {
      "cell_type": "code",
      "source": [
        "#14. Create a class Employee with a method calculate_salary() that computes the salary based on hours worked and hourly rate. Create a derived class Manager that adds a bonus to the salary.\n",
        "\n",
        "\n",
        "class Employee:\n",
        "    def __init__(self, hourly_rate, hours_worked):\n",
        "        self.hourly_rate = hourly_rate\n",
        "        self.hours_worked = hours_worked\n",
        "\n",
        "    def calculate_salary(self):\n",
        "        return self.hourly_rate * self.hours_worked\n",
        "\n",
        "class Manager(Employee):\n",
        "    def __init__(self, hourly_rate, hours_worked, bonus):\n",
        "        super().__init__(hourly_rate, hours_worked)\n",
        "        self.bonus = bonus\n",
        "\n",
        "    def calculate_salary(self):\n",
        "        salary = super().calculate_salary()\n",
        "        return salary + self.bonus\n",
        "\n",
        "# Example usage\n",
        "employee = Employee(10, 70)\n",
        "print(f\"Employee salary: ${employee.calculate_salary()}\")\n",
        "\n",
        "manager = Manager(20, 60, 600)\n",
        "print(f\"Manager salary: ${manager.calculate_salary()}\")\n"
      ],
      "metadata": {
        "colab": {
          "base_uri": "https://localhost:8080/"
        },
        "id": "mflyh3vXItnI",
        "outputId": "50caad7d-ecfb-4014-df95-91fff7dc1139"
      },
      "execution_count": 38,
      "outputs": [
        {
          "output_type": "stream",
          "name": "stdout",
          "text": [
            "Employee salary: $700\n",
            "Manager salary: $1800\n"
          ]
        }
      ]
    },
    {
      "cell_type": "code",
      "source": [
        "#15.  Create a class Product with attributes name, price, and quantity. Implement a method total_price() that calculates the total price of the product.\n",
        "\n",
        "class Product:\n",
        "    def __init__(self, name, price, quantity):\n",
        "        self.name = name\n",
        "        self.price = price\n",
        "        self.quantity = quantity\n",
        "\n",
        "    def total_price(self):\n",
        "        return self.price * self.quantity\n",
        "\n",
        "# Example usage:\n",
        "product1 = Product(\"Laptop\", 42000, 5)\n",
        "print(f\"The total price for {product1.name} is: ${product1.total_price()}\")\n",
        "\n",
        "product2 = Product(\"Headphones\", 1500, 10)\n",
        "print(f\"The total price for {product2.name} is: ${product2.total_price()}\")"
      ],
      "metadata": {
        "colab": {
          "base_uri": "https://localhost:8080/"
        },
        "id": "HnUn2LUcJV63",
        "outputId": "3945d698-af02-4d96-d40b-714ead69ce29"
      },
      "execution_count": 40,
      "outputs": [
        {
          "output_type": "stream",
          "name": "stdout",
          "text": [
            "The total price for Laptop is: $210000\n",
            "The total price for Headphones is: $15000\n"
          ]
        }
      ]
    },
    {
      "cell_type": "code",
      "source": [
        "#16. Create a class Animal with an abstract method sound(). Create two derived classes Cow and Sheep that implement the sound() method.\n",
        "\n",
        "from abc import ABC, abstractmethod\n",
        "\n",
        "class Animal(ABC):\n",
        "    @abstractmethod\n",
        "    def sound(self):\n",
        "        pass\n",
        "\n",
        "class Cow(Animal):\n",
        "    def sound(self):\n",
        "        return \"Moo\"\n",
        "\n",
        "class Sheep(Animal):\n",
        "    def sound(self):\n",
        "        return \"Baa\"\n",
        "\n",
        "# Example usage\n",
        "cow = Cow()\n",
        "sheep = Sheep()\n",
        "\n",
        "print(f\"Cow communication sound: {cow.sound()}\")\n",
        "print(f\"Sheep communication sound: {sheep.sound()}\")"
      ],
      "metadata": {
        "colab": {
          "base_uri": "https://localhost:8080/"
        },
        "id": "e0bXZKHFJ3dK",
        "outputId": "ec39efee-3cc9-4d4e-cf78-f33cab978dc0"
      },
      "execution_count": 42,
      "outputs": [
        {
          "output_type": "stream",
          "name": "stdout",
          "text": [
            "Cow communication sound: Moo\n",
            "Sheep communication sound: Baa\n"
          ]
        }
      ]
    },
    {
      "cell_type": "code",
      "source": [
        "#17.  Create a class Book with attributes title, author, and year_published. Add a method get_book_info() that returns a formatted string with the book's details.\n",
        "\n",
        "class Book:\n",
        "    def __init__(self, title, author, year_published):\n",
        "        self.title = title\n",
        "        self.author = author\n",
        "        self.year_published = year_published\n",
        "\n",
        "    def get_book_info(self):\n",
        "        return f\"Title: {self.title}, Author: {self.author}, Year Published: {self.year_published}\"\n",
        "\n",
        "# Example usage:\n",
        "book1 = Book(\"Shilapadma\", \"Pratibha Ray\", 1983)\n",
        "print(book1.get_book_info())\n",
        "\n",
        "book2 = Book(\"Prayaschita\", \"Fakir Mohan Senapati\", 1915)\n",
        "print(book2.get_book_info())"
      ],
      "metadata": {
        "colab": {
          "base_uri": "https://localhost:8080/"
        },
        "id": "MjQZbxrWKciM",
        "outputId": "efcb5905-b47c-49e4-b579-09df1408402d"
      },
      "execution_count": 44,
      "outputs": [
        {
          "output_type": "stream",
          "name": "stdout",
          "text": [
            "Title: Shilapadma, Author: Pratibha Ray, Year Published: 1983\n",
            "Title: Prayaschita, Author: Fakir Mohan Senapati, Year Published: 1915\n"
          ]
        }
      ]
    },
    {
      "cell_type": "code",
      "source": [
        "#18. Create a class House with attributes address and price. Create a derived class Mansion that adds an attribute number_of_rooms.\n",
        "\n",
        "class House:\n",
        "    def __init__(self, address, price):\n",
        "        self.address = address\n",
        "        self.price = price\n",
        "\n",
        "    def __str__(self):\n",
        "         return f\"Address: {self.address}, Price: ${self.price}\"\n",
        "\n",
        "class Mansion(House):\n",
        "    def __init__(self, address, price, number_of_rooms):\n",
        "        super().__init__(address, price)\n",
        "        self.number_of_rooms = number_of_rooms\n",
        "\n",
        "    def __str__(self):\n",
        "        return f\"{super().__str__()}, Number of Rooms: {self.number_of_rooms}\"\n",
        "\n",
        "# Example usage:\n",
        "house = House(\"Sanabazar, Jajpurtown\", 2500000)\n",
        "print(house)\n",
        "mansion = Mansion(\"Mayfair , Bhubaneswar\", 15000000, 15)\n",
        "print(mansion)"
      ],
      "metadata": {
        "colab": {
          "base_uri": "https://localhost:8080/"
        },
        "id": "0Mc-ld0MK65B",
        "outputId": "be831e9e-a18f-40cf-f70e-4519ddf3e1f2"
      },
      "execution_count": 46,
      "outputs": [
        {
          "output_type": "stream",
          "name": "stdout",
          "text": [
            "Address: Sanabazar, Jajpurtown, Price: $2500000\n",
            "Address: Mayfair , Bhubaneswar, Price: $15000000, Number of Rooms: 15\n"
          ]
        }
      ]
    },
    {
      "cell_type": "code",
      "source": [],
      "metadata": {
        "id": "2Z5Y2S-iMHSx"
      },
      "execution_count": null,
      "outputs": []
    }
  ]
}